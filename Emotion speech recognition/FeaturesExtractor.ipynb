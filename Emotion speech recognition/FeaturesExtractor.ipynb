{
 "cells": [
  {
   "cell_type": "markdown",
   "execution_count": null,
   "metadata": {},
   "outputs": [],
   "source": [
    "# Data Esploration\n",
    "---"
   ]
  },
  {
   "source": [
    "import librosa\n",
    "import librosa.display\n",
    "import numpy as np\n",
    "import pandas as pd\n",
    "import os\n",
    "\n",
    "from source_pytorch.tool_functions import Tool_functions"
   ],
   "cell_type": "code",
   "outputs": [],
   "metadata": {},
   "execution_count": 4
  },
  {
   "cell_type": "markdown",
   "execution_count": null,
   "metadata": {},
   "outputs": [],
   "source": [
    "Save and load csv with 3d\n",
    "https://stackoverflow.com/questions/50459119/writing-a-3d-numpy-array-to-a-csv-file/52145217"
   ]
  },
  {
   "source": [
    "#Source Directory\n",
    "dirDataset = './AudioDataset/'\n",
    "\n",
    "dir_list = os.listdir(dirDataset)\n",
    "#dir_list = dir_list[0:5]\n",
    "\n",
    "#Explore dataset Balance and build the DataFrame\n",
    "path_arr = []\n",
    "emotion_arr = []\n",
    "file_name_arr = []\n",
    "#mel_features_arr = []\n",
    "    \n",
    "for file_name in dir_list:\n",
    "    if not file_name.endswith(\".wav\"):\n",
    "        print('Not wav',file_name)\n",
    "    if file_name.endswith(\".wav\"):\n",
    "        #Fill file name array\n",
    "        #print(file_name)\n",
    "        #print(file_name[6:8])  #Check the emotion category flag\n",
    "        file_name_arr.append(file_name)\n",
    "\n",
    "        #Fill emotion column\n",
    "        if file_name[6:8]=='01':\n",
    "            emotion_arr.append('neutral')\n",
    "        elif file_name[6:8]=='02':\n",
    "            emotion_arr.append('calm')\n",
    "        elif file_name[6:8]=='03':\n",
    "            emotion_arr.append('happy')\n",
    "        elif file_name[6:8]=='04':\n",
    "            emotion_arr.append('sad')\n",
    "        elif file_name[6:8]=='05':\n",
    "            emotion_arr.append('angry')\n",
    "        elif file_name[6:8]=='06':\n",
    "            emotion_arr.append('fearful')\n",
    "        elif file_name[6:8]=='07':\n",
    "            emotion_arr.append('disgust')\n",
    "        elif file_name[6:8]=='08':\n",
    "            emotion_arr.append('surprise')\n",
    "\n",
    "        #mel_features = Tool_functions().get_melspec(dirDataset,file_name)\n",
    "        #mel_features_arr.append(mel_features)\n",
    "   \n",
    "        path_arr.append(dirDataset + file_name)\n",
    "\n",
    "print('File Name Array Length', len(file_name_arr))\n",
    "print('Emotion  Array length', len(emotion_arr))\n",
    "#print('Mel_Features Array Length', len(mel_features_arr))\n",
    "print('--- Audio Features extraction completed ---')"
   ],
   "cell_type": "code",
   "outputs": [
    {
     "output_type": "stream",
     "name": "stdout",
     "text": "Not wav .DS_Store\nFile Name Array Length 1440\nEmotion  Array length 1440\n--- Audio Features extraction completed ---\n"
    }
   ],
   "metadata": {},
   "execution_count": 6
  },
  {
   "source": [
    "#data_set = np.asarray([ emotion_arr, file_name_arr, mel_features_arr ])\n",
    "#np.savetxt(\"Dataset.csv\", data_set, delimiter=\",\")\n",
    "\n",
    "df = pd.DataFrame(emotion_arr, columns = ['label'])\n",
    "df = pd.concat([df, pd.DataFrame(file_name_arr, columns = ['fname'])], axis = 1)\n",
    "#df = pd.concat([df, pd.DataFrame(mel_features_arr, columns = ['mel_features'])], axis = 1)\n",
    "\n",
    "df.label.value_counts()\n",
    "df.to_csv(os.path.join('./',\"ReferenceData.csv\"), index = False)\n",
    "df.to_csv(index=False)\n",
    "df.head()"
   ],
   "cell_type": "code",
   "outputs": [
    {
     "output_type": "execute_result",
     "data": {
      "text/html": "<div>\n<style scoped>\n    .dataframe tbody tr th:only-of-type {\n        vertical-align: middle;\n    }\n\n    .dataframe tbody tr th {\n        vertical-align: top;\n    }\n\n    .dataframe thead th {\n        text-align: right;\n    }\n</style>\n<table border=\"1\" class=\"dataframe\">\n  <thead>\n    <tr style=\"text-align: right;\">\n      <th></th>\n      <th>label</th>\n      <th>fname</th>\n    </tr>\n  </thead>\n  <tbody>\n    <tr>\n      <th>0</th>\n      <td>fearful</td>\n      <td>03-01-06-01-02-02-02.wav</td>\n    </tr>\n    <tr>\n      <th>1</th>\n      <td>angry</td>\n      <td>03-01-05-01-02-01-16.wav</td>\n    </tr>\n    <tr>\n      <th>2</th>\n      <td>surprise</td>\n      <td>03-01-08-01-01-01-14.wav</td>\n    </tr>\n    <tr>\n      <th>3</th>\n      <td>fearful</td>\n      <td>03-01-06-01-02-02-16.wav</td>\n    </tr>\n    <tr>\n      <th>4</th>\n      <td>angry</td>\n      <td>03-01-05-01-02-01-02.wav</td>\n    </tr>\n  </tbody>\n</table>\n</div>",
      "text/plain": "      label                     fname\n0   fearful  03-01-06-01-02-02-02.wav\n1     angry  03-01-05-01-02-01-16.wav\n2  surprise  03-01-08-01-01-01-14.wav\n3   fearful  03-01-06-01-02-02-16.wav\n4     angry  03-01-05-01-02-01-02.wav"
     },
     "metadata": {},
     "execution_count": 7
    }
   ],
   "metadata": {},
   "execution_count": 7
  },
  {
   "cell_type": "code",
   "execution_count": null,
   "metadata": {},
   "outputs": [],
   "source": []
  }
 ],
 "metadata": {
  "kernelspec": {
   "display_name": "Python 3.8.0 64-bit",
   "language": "python",
   "name": "python38064bit397be61b2f12438a83a89fe139871e40"
  },
  "language_info": {
   "codemirror_mode": {
    "name": "ipython",
    "version": 3
   },
   "file_extension": ".py",
   "mimetype": "text/x-python",
   "name": "python",
   "nbconvert_exporter": "python",
   "pygments_lexer": "ipython3",
   "version": "3.8.0-final"
  }
 },
 "nbformat": 4,
 "nbformat_minor": 4
}